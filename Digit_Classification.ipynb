{
  "nbformat": 4,
  "nbformat_minor": 0,
  "metadata": {
    "colab": {
      "provenance": [],
      "toc_visible": true,
      "gpuType": "V28"
    },
    "kernelspec": {
      "name": "python3",
      "display_name": "Python 3"
    },
    "language_info": {
      "name": "python"
    },
    "accelerator": "TPU"
  },
  "cells": [
    {
      "cell_type": "markdown",
      "source": [
        "**Importing Packages**"
      ],
      "metadata": {
        "id": "EjaO7Ipd6dQa"
      }
    },
    {
      "cell_type": "code",
      "execution_count": 27,
      "metadata": {
        "id": "olddG8JkIYE_"
      },
      "outputs": [],
      "source": [
        "from tensorflow.keras.datasets import mnist\n",
        "from tensorflow import keras\n",
        "from tensorflow.keras import models,layers\n",
        "from tensorflow.keras.utils import to_categorical\n",
        "from tensorflow.keras.preprocessing import image\n",
        "import numpy as np\n",
        "import tensorflow\n",
        "from tensorflow.keras.callbacks import ModelCheckpoint"
      ]
    },
    {
      "cell_type": "markdown",
      "source": [
        "**CALL BACK FUNCTION**"
      ],
      "metadata": {
        "id": "id0g6pA96lQF"
      }
    },
    {
      "cell_type": "code",
      "source": [
        "class myCallbacks(tensorflow.keras.callbacks.Callback):\n",
        "  def on_epoch_end(self, epoch, logs={}):\n",
        "    if(logs.get('accuracy') > 0.99):\n",
        "      print('\\nDesired Accuracy is Reached!!')\n",
        "      # self.model.stop.training= True\n",
        "      self.model.stop_training = True\n",
        "\n",
        "\n",
        "callback = myCallbacks()"
      ],
      "metadata": {
        "id": "rwvzUkbRA4GX"
      },
      "execution_count": 10,
      "outputs": []
    },
    {
      "cell_type": "markdown",
      "source": [
        "**Loading Mnist Dataset**"
      ],
      "metadata": {
        "id": "fE-APyQH6uQX"
      }
    },
    {
      "cell_type": "code",
      "source": [
        "(train_images,train_labels),(test_images,test_labels) = mnist.load_data()\n",
        "\n",
        "model = keras.Sequential([layers.Dense(512,activation='relu',input_shape=(28*28,)),\n",
        "                          layers.Dense(10, activation='Softmax')])\n",
        "\n",
        "model.compile(optimizer='rmsprop', loss = 'categorical_crossentropy' , metrics=[\"accuracy\"],)"
      ],
      "metadata": {
        "id": "FrM5QxTLQs54",
        "colab": {
          "base_uri": "https://localhost:8080/"
        },
        "outputId": "54980d7d-4320-4348-9b7c-525f49e224d9"
      },
      "execution_count": 3,
      "outputs": [
        {
          "output_type": "stream",
          "name": "stdout",
          "text": [
            "Downloading data from https://storage.googleapis.com/tensorflow/tf-keras-datasets/mnist.npz\n",
            "11490434/11490434 [==============================] - 0s 0us/step\n"
          ]
        }
      ]
    },
    {
      "cell_type": "markdown",
      "source": [
        "**Reshape Images and change colour range of Images between 0 to 1**"
      ],
      "metadata": {
        "id": "2vun7U0K67AF"
      }
    },
    {
      "cell_type": "code",
      "source": [
        "train_images = train_images.reshape(60000,28*28)\n",
        "test_images = test_images.reshape(10000,28*28)\n",
        "train_images = train_images.astype('float32')/255\n",
        "test_images = test_images.astype('float32')/255\n",
        "print(train_labels)"
      ],
      "metadata": {
        "id": "x6p3C74ETIT8",
        "colab": {
          "base_uri": "https://localhost:8080/"
        },
        "outputId": "8cabd3b2-8967-4d1b-b61d-41d90610a816"
      },
      "execution_count": 4,
      "outputs": [
        {
          "output_type": "stream",
          "name": "stdout",
          "text": [
            "[5 0 4 ... 5 6 8]\n"
          ]
        }
      ]
    },
    {
      "cell_type": "markdown",
      "source": [
        "**Apply One Hot Encoding**"
      ],
      "metadata": {
        "id": "vHCYhjEo7lPG"
      }
    },
    {
      "cell_type": "code",
      "source": [
        "train_labels = to_categorical(train_labels)\n",
        "test_labels = to_categorical(test_labels)\n",
        "print(train_labels)"
      ],
      "metadata": {
        "colab": {
          "base_uri": "https://localhost:8080/"
        },
        "id": "Id_pG66ei89o",
        "outputId": "53e3fcc7-ce0d-43cb-8653-841908408754"
      },
      "execution_count": 5,
      "outputs": [
        {
          "output_type": "stream",
          "name": "stdout",
          "text": [
            "[[0. 0. 0. ... 0. 0. 0.]\n",
            " [1. 0. 0. ... 0. 0. 0.]\n",
            " [0. 0. 0. ... 0. 0. 0.]\n",
            " ...\n",
            " [0. 0. 0. ... 0. 0. 0.]\n",
            " [0. 0. 0. ... 0. 0. 0.]\n",
            " [0. 0. 0. ... 0. 1. 0.]]\n"
          ]
        }
      ]
    },
    {
      "cell_type": "markdown",
      "source": [
        "**Training Machine Learning Model**"
      ],
      "metadata": {
        "id": "HyCGoxws75nS"
      }
    },
    {
      "cell_type": "code",
      "source": [
        "model.fit(train_images,train_labels,epochs=10,batch_size=512,callbacks=[callback],verbose=1)"
      ],
      "metadata": {
        "colab": {
          "base_uri": "https://localhost:8080/"
        },
        "id": "SHCym-X2UXYn",
        "outputId": "31c21642-24b2-44f7-d874-64eb26119ef8"
      },
      "execution_count": 11,
      "outputs": [
        {
          "output_type": "stream",
          "name": "stdout",
          "text": [
            "Epoch 1/10\n",
            "118/118 [==============================] - 1s 6ms/step - loss: 0.0794 - accuracy: 0.9773\n",
            "Epoch 2/10\n",
            "118/118 [==============================] - 1s 6ms/step - loss: 0.0653 - accuracy: 0.9815\n",
            "Epoch 3/10\n",
            "118/118 [==============================] - 1s 6ms/step - loss: 0.0544 - accuracy: 0.9846\n",
            "Epoch 4/10\n",
            "118/118 [==============================] - 1s 6ms/step - loss: 0.0453 - accuracy: 0.9876\n",
            "Epoch 5/10\n",
            "118/118 [==============================] - 1s 6ms/step - loss: 0.0383 - accuracy: 0.9896\n",
            "Epoch 6/10\n",
            "116/118 [============================>.] - ETA: 0s - loss: 0.0326 - accuracy: 0.9915\n",
            "Desired Accuracy is Reached!!\n",
            "118/118 [==============================] - 1s 6ms/step - loss: 0.0327 - accuracy: 0.9914\n"
          ]
        },
        {
          "output_type": "execute_result",
          "data": {
            "text/plain": [
              "<keras.src.callbacks.History at 0x7d3cf0270250>"
            ]
          },
          "metadata": {},
          "execution_count": 11
        }
      ]
    },
    {
      "cell_type": "markdown",
      "source": [
        "## Making Checkpoints"
      ],
      "metadata": {
        "id": "wx4y0PaS7sJC"
      }
    },
    {
      "cell_type": "code",
      "source": [
        "checkpoint_callback = ModelCheckpoint('./content/drive/MyDrive/Saved_Models/DigitClassification99.08.h5', monitor='val_accuracy', save_best_only=True, mode='max')"
      ],
      "metadata": {
        "id": "A9We4yZpzjzj"
      },
      "execution_count": 20,
      "outputs": []
    },
    {
      "cell_type": "markdown",
      "source": [
        "## Applying Training By Using Checkpoints"
      ],
      "metadata": {
        "id": "0Yi9PQxc72nr"
      }
    },
    {
      "cell_type": "code",
      "source": [
        "model.fit(train_images,train_labels,validation_split=0.2,epochs=10,batch_size=512,callbacks=[checkpoint_callback],verbose=1)"
      ],
      "metadata": {
        "colab": {
          "base_uri": "https://localhost:8080/"
        },
        "id": "QQ3U3Aa-xrSC",
        "outputId": "21c741b9-7111-44ed-8802-6cf235e3da2d"
      },
      "execution_count": 21,
      "outputs": [
        {
          "output_type": "stream",
          "name": "stdout",
          "text": [
            "Epoch 1/10\n",
            "94/94 [==============================] - 1s 8ms/step - loss: 0.0046 - accuracy: 0.9997 - val_loss: 0.0308 - val_accuracy: 0.9903\n",
            "Epoch 2/10\n",
            "94/94 [==============================] - 1s 7ms/step - loss: 0.0039 - accuracy: 0.9998 - val_loss: 0.0301 - val_accuracy: 0.9907\n",
            "Epoch 3/10\n",
            "94/94 [==============================] - 1s 7ms/step - loss: 0.0034 - accuracy: 0.9999 - val_loss: 0.0297 - val_accuracy: 0.9913\n",
            "Epoch 4/10\n",
            "94/94 [==============================] - 1s 7ms/step - loss: 0.0029 - accuracy: 0.9999 - val_loss: 0.0309 - val_accuracy: 0.9909\n",
            "Epoch 5/10\n",
            "94/94 [==============================] - 1s 7ms/step - loss: 0.0026 - accuracy: 1.0000 - val_loss: 0.0305 - val_accuracy: 0.9913\n",
            "Epoch 6/10\n",
            "94/94 [==============================] - 1s 7ms/step - loss: 0.0024 - accuracy: 1.0000 - val_loss: 0.0310 - val_accuracy: 0.9906\n",
            "Epoch 7/10\n",
            "94/94 [==============================] - 1s 7ms/step - loss: 0.0021 - accuracy: 1.0000 - val_loss: 0.0314 - val_accuracy: 0.9908\n",
            "Epoch 8/10\n",
            "94/94 [==============================] - 1s 7ms/step - loss: 0.0019 - accuracy: 1.0000 - val_loss: 0.0305 - val_accuracy: 0.9912\n",
            "Epoch 9/10\n",
            "94/94 [==============================] - 1s 7ms/step - loss: 0.0017 - accuracy: 1.0000 - val_loss: 0.0313 - val_accuracy: 0.9907\n",
            "Epoch 10/10\n",
            "94/94 [==============================] - 1s 7ms/step - loss: 0.0016 - accuracy: 1.0000 - val_loss: 0.0316 - val_accuracy: 0.9908\n"
          ]
        },
        {
          "output_type": "execute_result",
          "data": {
            "text/plain": [
              "<keras.src.callbacks.History at 0x7d3cf02bb700>"
            ]
          },
          "metadata": {},
          "execution_count": 21
        }
      ]
    },
    {
      "cell_type": "code",
      "source": [
        "model.save('./content/drive/MyDrive/Saved_Models/DigitClassification99.08.h5')"
      ],
      "metadata": {
        "id": "Hci2XtTIyLko"
      },
      "execution_count": 18,
      "outputs": []
    },
    {
      "cell_type": "markdown",
      "source": [
        "**Evaluating Model Results**"
      ],
      "metadata": {
        "id": "C1kr0u-08CR3"
      }
    },
    {
      "cell_type": "code",
      "source": [
        "test_loss,test_acc = model.evaluate(test_images,test_labels)\n",
        "test_acc"
      ],
      "metadata": {
        "id": "bZ0U6aMA6JSS",
        "colab": {
          "base_uri": "https://localhost:8080/"
        },
        "outputId": "f61a5972-8412-4a86-ce21-23146695a8b2"
      },
      "execution_count": 22,
      "outputs": [
        {
          "output_type": "stream",
          "name": "stdout",
          "text": [
            "313/313 [==============================] - 1s 2ms/step - loss: 0.0617 - accuracy: 0.9825\n"
          ]
        },
        {
          "output_type": "execute_result",
          "data": {
            "text/plain": [
              "0.9825000166893005"
            ]
          },
          "metadata": {},
          "execution_count": 22
        }
      ]
    },
    {
      "cell_type": "markdown",
      "source": [
        "## Making Model by Using CNN & Maxpooling"
      ],
      "metadata": {
        "id": "dspevnRH8KyW"
      }
    },
    {
      "cell_type": "code",
      "source": [
        "(train_images,train_labels),(test_images,test_labels) = mnist.load_data()\n",
        "\n",
        "test_images = test_images.reshape(10000,28,28,1)\n",
        "train_images = train_images.reshape(60000,28,28,1)\n",
        "train_images = train_images.astype('float32')/255\n",
        "test_images = test_images.astype('float32')/255\n",
        "train_labels = to_categorical(train_labels)\n",
        "test_labels = to_categorical(test_labels)"
      ],
      "metadata": {
        "id": "f02tZUlj5kpw"
      },
      "execution_count": 52,
      "outputs": []
    },
    {
      "cell_type": "markdown",
      "source": [
        "## Model Architecture"
      ],
      "metadata": {
        "id": "1DWwz1eL8UOG"
      }
    },
    {
      "cell_type": "code",
      "source": [
        "model = models.Sequential()\n",
        "model.add(layers.Conv2D(32, (3, 3), activation='relu', input_shape=(28, 28, 1)))\n",
        "model.add(layers.MaxPooling2D((2, 2)))\n",
        "model.add(layers.Conv2D(64, (3, 3), activation='relu'))\n",
        "model.add(layers.MaxPooling2D((2, 2)))\n",
        "model.add(layers.Flatten())\n",
        "model.add(layers.Dense(128, activation='relu'))\n",
        "model.add(layers.Dropout(0.5))\n",
        "model.add(layers.Dense(10, activation='softmax'))"
      ],
      "metadata": {
        "id": "70zFUQ-Q2C3m"
      },
      "execution_count": 53,
      "outputs": []
    },
    {
      "cell_type": "code",
      "source": [
        "model.compile(optimizer='adam', loss='categorical_crossentropy', metrics=['accuracy'])"
      ],
      "metadata": {
        "id": "xt4WHuxA4-Xj"
      },
      "execution_count": 54,
      "outputs": []
    },
    {
      "cell_type": "markdown",
      "source": [
        "## Training"
      ],
      "metadata": {
        "id": "-gT9GJwS8Zmc"
      }
    },
    {
      "cell_type": "code",
      "source": [
        "model.fit(train_images,train_labels,validation_split=0.2,epochs=15,batch_size=512,callbacks=[checkpoint_callback],verbose=1)"
      ],
      "metadata": {
        "colab": {
          "base_uri": "https://localhost:8080/"
        },
        "id": "kM_15iti4xMt",
        "outputId": "fbc73d74-c60a-4a1b-818e-73bba1a200ac"
      },
      "execution_count": 57,
      "outputs": [
        {
          "output_type": "stream",
          "name": "stdout",
          "text": [
            "Epoch 1/15\n",
            "94/94 [==============================] - 4s 42ms/step - loss: 0.0342 - accuracy: 0.9895 - val_loss: 0.0328 - val_accuracy: 0.9901\n",
            "Epoch 2/15\n",
            "94/94 [==============================] - 4s 41ms/step - loss: 0.0315 - accuracy: 0.9904 - val_loss: 0.0330 - val_accuracy: 0.9905\n",
            "Epoch 3/15\n",
            "94/94 [==============================] - 4s 42ms/step - loss: 0.0300 - accuracy: 0.9908 - val_loss: 0.0334 - val_accuracy: 0.9906\n",
            "Epoch 4/15\n",
            "94/94 [==============================] - 4s 41ms/step - loss: 0.0285 - accuracy: 0.9909 - val_loss: 0.0370 - val_accuracy: 0.9897\n",
            "Epoch 5/15\n",
            "94/94 [==============================] - 4s 40ms/step - loss: 0.0260 - accuracy: 0.9920 - val_loss: 0.0357 - val_accuracy: 0.9912\n",
            "Epoch 6/15\n",
            "94/94 [==============================] - 4s 42ms/step - loss: 0.0250 - accuracy: 0.9923 - val_loss: 0.0349 - val_accuracy: 0.9913\n",
            "Epoch 7/15\n",
            "94/94 [==============================] - 4s 41ms/step - loss: 0.0228 - accuracy: 0.9928 - val_loss: 0.0347 - val_accuracy: 0.9912\n",
            "Epoch 8/15\n",
            "94/94 [==============================] - 4s 41ms/step - loss: 0.0219 - accuracy: 0.9929 - val_loss: 0.0392 - val_accuracy: 0.9900\n",
            "Epoch 9/15\n",
            "94/94 [==============================] - 4s 42ms/step - loss: 0.0219 - accuracy: 0.9929 - val_loss: 0.0357 - val_accuracy: 0.9905\n",
            "Epoch 10/15\n",
            "94/94 [==============================] - 4s 42ms/step - loss: 0.0195 - accuracy: 0.9936 - val_loss: 0.0340 - val_accuracy: 0.9915\n",
            "Epoch 11/15\n",
            " 3/94 [..............................] - ETA: 3s - loss: 0.0169 - accuracy: 0.9954"
          ]
        },
        {
          "output_type": "stream",
          "name": "stderr",
          "text": [
            "/usr/local/lib/python3.10/dist-packages/keras/src/engine/training.py:3103: UserWarning: You are saving your model as an HDF5 file via `model.save()`. This file format is considered legacy. We recommend using instead the native Keras format, e.g. `model.save('my_model.keras')`.\n",
            "  saving_api.save_model(\n"
          ]
        },
        {
          "output_type": "stream",
          "name": "stdout",
          "text": [
            "94/94 [==============================] - 4s 42ms/step - loss: 0.0180 - accuracy: 0.9940 - val_loss: 0.0371 - val_accuracy: 0.9905\n",
            "Epoch 12/15\n",
            "94/94 [==============================] - 4s 41ms/step - loss: 0.0190 - accuracy: 0.9937 - val_loss: 0.0349 - val_accuracy: 0.9913\n",
            "Epoch 13/15\n",
            "94/94 [==============================] - 4s 41ms/step - loss: 0.0181 - accuracy: 0.9945 - val_loss: 0.0342 - val_accuracy: 0.9915\n",
            "Epoch 14/15\n",
            "94/94 [==============================] - 4s 40ms/step - loss: 0.0178 - accuracy: 0.9939 - val_loss: 0.0365 - val_accuracy: 0.9918\n",
            "Epoch 15/15\n",
            "94/94 [==============================] - 4s 39ms/step - loss: 0.0170 - accuracy: 0.9945 - val_loss: 0.0353 - val_accuracy: 0.9915\n"
          ]
        },
        {
          "output_type": "execute_result",
          "data": {
            "text/plain": [
              "<keras.src.callbacks.History at 0x7d4485ae22f0>"
            ]
          },
          "metadata": {},
          "execution_count": 57
        }
      ]
    },
    {
      "cell_type": "markdown",
      "source": [
        "## Testing"
      ],
      "metadata": {
        "id": "gpjR4vUs8bu0"
      }
    },
    {
      "cell_type": "code",
      "source": [
        "test_loss,test_acc = model.evaluate(test_images,test_labels)\n",
        "test_acc"
      ],
      "metadata": {
        "colab": {
          "base_uri": "https://localhost:8080/"
        },
        "id": "VP8SX1mS7UN9",
        "outputId": "0978635f-992e-4b86-8638-a79bc90474f0"
      },
      "execution_count": 58,
      "outputs": [
        {
          "output_type": "stream",
          "name": "stdout",
          "text": [
            "313/313 [==============================] - 1s 3ms/step - loss: 0.0229 - accuracy: 0.9929\n"
          ]
        },
        {
          "output_type": "execute_result",
          "data": {
            "text/plain": [
              "0.992900013923645"
            ]
          },
          "metadata": {},
          "execution_count": 58
        }
      ]
    },
    {
      "cell_type": "markdown",
      "source": [
        "**Predicting Test Images**"
      ],
      "metadata": {
        "id": "gQOWbZMd8Usl"
      }
    },
    {
      "cell_type": "code",
      "source": [
        "test_digits = test_images[:20]\n",
        "prediction = model.predict(test_digits)\n",
        "print(prediction[4].argmax())\n",
        "test_labels[4]\n"
      ],
      "metadata": {
        "colab": {
          "base_uri": "https://localhost:8080/"
        },
        "id": "SHdoMLaLU39p",
        "outputId": "21dd121f-ece6-4062-ac84-f766e7f509f0"
      },
      "execution_count": 24,
      "outputs": [
        {
          "output_type": "stream",
          "name": "stdout",
          "text": [
            "1/1 [==============================] - 0s 24ms/step\n",
            "4\n"
          ]
        },
        {
          "output_type": "execute_result",
          "data": {
            "text/plain": [
              "array([0., 0., 0., 0., 1., 0., 0., 0., 0., 0.], dtype=float32)"
            ]
          },
          "metadata": {},
          "execution_count": 24
        }
      ]
    },
    {
      "cell_type": "markdown",
      "source": [
        "**Checking Parameters and other Details**"
      ],
      "metadata": {
        "id": "yylnPs878I6W"
      }
    },
    {
      "cell_type": "code",
      "source": [
        "model.summary()"
      ],
      "metadata": {
        "id": "RX2HBUNR7H6U",
        "colab": {
          "base_uri": "https://localhost:8080/"
        },
        "outputId": "6b5239cd-0161-4270-9f45-a8a7bcce3165"
      },
      "execution_count": null,
      "outputs": [
        {
          "output_type": "stream",
          "name": "stdout",
          "text": [
            "Model: \"sequential\"\n",
            "_________________________________________________________________\n",
            " Layer (type)                Output Shape              Param #   \n",
            "=================================================================\n",
            " dense (Dense)               (None, 512)               401920    \n",
            "                                                                 \n",
            " dense_1 (Dense)             (None, 10)                5130      \n",
            "                                                                 \n",
            "=================================================================\n",
            "Total params: 407050 (1.55 MB)\n",
            "Trainable params: 407050 (1.55 MB)\n",
            "Non-trainable params: 0 (0.00 Byte)\n",
            "_________________________________________________________________\n"
          ]
        }
      ]
    },
    {
      "cell_type": "markdown",
      "source": [
        "**Checking Model Result By Giving Random Image**"
      ],
      "metadata": {
        "id": "fSlBWrSB8of2"
      }
    },
    {
      "cell_type": "code",
      "source": [
        "img = image.load_img('/content/2.jpeg',target_size=(28,28),color_mode='grayscale')\n",
        "img_array = np.array(image.img_to_array(img)).reshape(1,28*28)\n",
        "model.predict(img_array)"
      ],
      "metadata": {
        "id": "WWBinbr_gl9V"
      },
      "execution_count": null,
      "outputs": []
    },
    {
      "cell_type": "markdown",
      "source": [
        "**Saving Model in 'sav' Format**"
      ],
      "metadata": {
        "id": "1ZeHwZ11834i"
      }
    },
    {
      "cell_type": "code",
      "source": [
        "model.save('/content/HandWrittenObject.sav')"
      ],
      "metadata": {
        "id": "gRQl_4Y3h-D5"
      },
      "execution_count": null,
      "outputs": []
    }
  ]
}