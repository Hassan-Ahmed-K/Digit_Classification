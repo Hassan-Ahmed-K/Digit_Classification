{
  "nbformat": 4,
  "nbformat_minor": 0,
  "metadata": {
    "colab": {
      "provenance": []
    },
    "kernelspec": {
      "name": "python3",
      "display_name": "Python 3"
    },
    "language_info": {
      "name": "python"
    },
    "accelerator": "TPU"
  },
  "cells": [
    {
      "cell_type": "markdown",
      "source": [
        "**Importing Packages**"
      ],
      "metadata": {
        "id": "EjaO7Ipd6dQa"
      }
    },
    {
      "cell_type": "code",
      "execution_count": 1,
      "metadata": {
        "id": "olddG8JkIYE_"
      },
      "outputs": [],
      "source": [
        "from tensorflow.keras.datasets import mnist\n",
        "from tensorflow import keras\n",
        "from tensorflow.keras import layers\n",
        "from tensorflow.keras.utils import to_categorical\n",
        "from tensorflow.keras.preprocessing import image\n",
        "import numpy as np\n",
        "import tensorflow"
      ]
    },
    {
      "cell_type": "markdown",
      "source": [
        "**CALL BACK FUNCTION**"
      ],
      "metadata": {
        "id": "id0g6pA96lQF"
      }
    },
    {
      "cell_type": "code",
      "source": [
        "class myCallbacks(tensorflow.keras.callbacks.Callback):\n",
        "  def on_epoch_end(self, epoch, logs={}):\n",
        "    if(logs.get('accuracy') > 0.8):\n",
        "      print('\\nDesired Accuracy is Reached!!')\n",
        "      # self.model.stop.training= True\n",
        "      self.model.stop_training = True\n",
        "\n",
        "\n",
        "callback = myCallbacks()"
      ],
      "metadata": {
        "id": "rwvzUkbRA4GX"
      },
      "execution_count": 2,
      "outputs": []
    },
    {
      "cell_type": "markdown",
      "source": [
        "**Loading Mnist Dataset**"
      ],
      "metadata": {
        "id": "fE-APyQH6uQX"
      }
    },
    {
      "cell_type": "code",
      "source": [
        "(train_images,train_labels),(test_images,test_labels) = mnist.load_data()\n",
        "model = keras.Sequential([layers.Dense(512,activation='relu',input_shape=(28*28,)),layers.Dense(10, activation='Softmax')])\n",
        "model.compile(optimizer='rmsprop', loss = 'categorical_crossentropy' , metrics=[\"accuracy\"],)"
      ],
      "metadata": {
        "id": "FrM5QxTLQs54",
        "colab": {
          "base_uri": "https://localhost:8080/"
        },
        "outputId": "f9288a84-7174-46b8-cc66-446bc501de0f"
      },
      "execution_count": 3,
      "outputs": [
        {
          "output_type": "stream",
          "name": "stdout",
          "text": [
            "Downloading data from https://storage.googleapis.com/tensorflow/tf-keras-datasets/mnist.npz\n",
            "11490434/11490434 [==============================] - 0s 0us/step\n"
          ]
        }
      ]
    },
    {
      "cell_type": "markdown",
      "source": [
        "**Reshape Images and change colour range of Images between 0 to 1**"
      ],
      "metadata": {
        "id": "2vun7U0K67AF"
      }
    },
    {
      "cell_type": "code",
      "source": [
        "train_images = train_images.reshape(60000,28*28)\n",
        "test_images = test_images.reshape(10000,28*28)\n",
        "train_images = train_images.astype('float32')/255\n",
        "test_images = test_images.astype('float32')/255\n",
        "print(train_labels)"
      ],
      "metadata": {
        "id": "x6p3C74ETIT8",
        "colab": {
          "base_uri": "https://localhost:8080/"
        },
        "outputId": "a1506129-f976-47c8-970f-8f10b06d4928"
      },
      "execution_count": 4,
      "outputs": [
        {
          "output_type": "stream",
          "name": "stdout",
          "text": [
            "[5 0 4 ... 5 6 8]\n"
          ]
        }
      ]
    },
    {
      "cell_type": "markdown",
      "source": [
        "**Apply One Hot Encoding**"
      ],
      "metadata": {
        "id": "vHCYhjEo7lPG"
      }
    },
    {
      "cell_type": "code",
      "source": [
        "train_labels = to_categorical(train_labels)\n",
        "test_labels = to_categorical(test_labels)\n",
        "print(train_labels)"
      ],
      "metadata": {
        "colab": {
          "base_uri": "https://localhost:8080/"
        },
        "id": "Id_pG66ei89o",
        "outputId": "17be9e4b-73e6-42ef-a111-a1387dc88786"
      },
      "execution_count": 5,
      "outputs": [
        {
          "output_type": "stream",
          "name": "stdout",
          "text": [
            "[[0. 0. 0. ... 0. 0. 0.]\n",
            " [1. 0. 0. ... 0. 0. 0.]\n",
            " [0. 0. 0. ... 0. 0. 0.]\n",
            " ...\n",
            " [0. 0. 0. ... 0. 0. 0.]\n",
            " [0. 0. 0. ... 0. 0. 0.]\n",
            " [0. 0. 0. ... 0. 1. 0.]]\n"
          ]
        }
      ]
    },
    {
      "cell_type": "markdown",
      "source": [
        "**Training Machine Learning Model**"
      ],
      "metadata": {
        "id": "HyCGoxws75nS"
      }
    },
    {
      "cell_type": "code",
      "source": [
        "model.fit(train_images,train_labels,epochs=5,batch_size=512,callbacks=[callback])"
      ],
      "metadata": {
        "colab": {
          "base_uri": "https://localhost:8080/"
        },
        "id": "SHCym-X2UXYn",
        "outputId": "e0b64e84-5944-4f8e-fa1d-7218aa94f5c6"
      },
      "execution_count": 6,
      "outputs": [
        {
          "output_type": "stream",
          "name": "stdout",
          "text": [
            "Epoch 1/5\n",
            "116/118 [============================>.] - ETA: 0s - loss: 0.4210 - accuracy: 0.8822\n",
            "Desired Accuracy is Reached!!\n",
            "118/118 [==============================] - 4s 27ms/step - loss: 0.4197 - accuracy: 0.8825\n"
          ]
        },
        {
          "output_type": "execute_result",
          "data": {
            "text/plain": [
              "<keras.src.callbacks.History at 0x7ebd851e6a70>"
            ]
          },
          "metadata": {},
          "execution_count": 6
        }
      ]
    },
    {
      "cell_type": "markdown",
      "source": [
        "**Evaluating Model Results**"
      ],
      "metadata": {
        "id": "C1kr0u-08CR3"
      }
    },
    {
      "cell_type": "code",
      "source": [
        "test_loss,test_acc = model.evaluate(test_images,test_labels)\n",
        "test_acc"
      ],
      "metadata": {
        "id": "bZ0U6aMA6JSS",
        "colab": {
          "base_uri": "https://localhost:8080/"
        },
        "outputId": "de4b75e4-bdcf-44d2-87c8-70b98e6c3242"
      },
      "execution_count": 7,
      "outputs": [
        {
          "output_type": "stream",
          "name": "stdout",
          "text": [
            "313/313 [==============================] - 1s 4ms/step - loss: 0.2592 - accuracy: 0.9241\n"
          ]
        },
        {
          "output_type": "execute_result",
          "data": {
            "text/plain": [
              "0.9240999817848206"
            ]
          },
          "metadata": {},
          "execution_count": 7
        }
      ]
    },
    {
      "cell_type": "markdown",
      "source": [
        "**Predicting Test Images**"
      ],
      "metadata": {
        "id": "gQOWbZMd8Usl"
      }
    },
    {
      "cell_type": "code",
      "source": [
        "test_digits = test_images[:20]\n",
        "prediction = model.predict(test_digits)\n",
        "prediction[4].argmax()\n",
        "test_labels[4]\n"
      ],
      "metadata": {
        "colab": {
          "base_uri": "https://localhost:8080/"
        },
        "id": "SHdoMLaLU39p",
        "outputId": "280a1529-41b4-4811-efe6-747417ff6eaf"
      },
      "execution_count": 8,
      "outputs": [
        {
          "output_type": "stream",
          "name": "stdout",
          "text": [
            "1/1 [==============================] - 0s 115ms/step\n"
          ]
        },
        {
          "output_type": "execute_result",
          "data": {
            "text/plain": [
              "array([0., 0., 0., 0., 1., 0., 0., 0., 0., 0.], dtype=float32)"
            ]
          },
          "metadata": {},
          "execution_count": 8
        }
      ]
    },
    {
      "cell_type": "markdown",
      "source": [
        "**Checking Parameters and other Details**"
      ],
      "metadata": {
        "id": "yylnPs878I6W"
      }
    },
    {
      "cell_type": "code",
      "source": [
        "model.summary()"
      ],
      "metadata": {
        "id": "RX2HBUNR7H6U",
        "colab": {
          "base_uri": "https://localhost:8080/"
        },
        "outputId": "6b5239cd-0161-4270-9f45-a8a7bcce3165"
      },
      "execution_count": 9,
      "outputs": [
        {
          "output_type": "stream",
          "name": "stdout",
          "text": [
            "Model: \"sequential\"\n",
            "_________________________________________________________________\n",
            " Layer (type)                Output Shape              Param #   \n",
            "=================================================================\n",
            " dense (Dense)               (None, 512)               401920    \n",
            "                                                                 \n",
            " dense_1 (Dense)             (None, 10)                5130      \n",
            "                                                                 \n",
            "=================================================================\n",
            "Total params: 407050 (1.55 MB)\n",
            "Trainable params: 407050 (1.55 MB)\n",
            "Non-trainable params: 0 (0.00 Byte)\n",
            "_________________________________________________________________\n"
          ]
        }
      ]
    },
    {
      "cell_type": "markdown",
      "source": [
        "**Checking Model Result By Giving Random Image**"
      ],
      "metadata": {
        "id": "fSlBWrSB8of2"
      }
    },
    {
      "cell_type": "code",
      "source": [
        "img = image.load_img('/content/2.jpeg',target_size=(28,28),color_mode='grayscale')\n",
        "img_array = np.array(image.img_to_array(img)).reshape(1,28*28)\n",
        "model.predict(img_array)"
      ],
      "metadata": {
        "id": "WWBinbr_gl9V"
      },
      "execution_count": null,
      "outputs": []
    },
    {
      "cell_type": "markdown",
      "source": [
        "**Saving Model in 'sav' Format**"
      ],
      "metadata": {
        "id": "1ZeHwZ11834i"
      }
    },
    {
      "cell_type": "code",
      "source": [
        "model.save('/content/HandWrittenObject.sav')"
      ],
      "metadata": {
        "id": "gRQl_4Y3h-D5"
      },
      "execution_count": null,
      "outputs": []
    },
    {
      "cell_type": "markdown",
      "source": [
        "**Reloading The Same Model**"
      ],
      "metadata": {
        "id": "kom5elaY9C2K"
      }
    },
    {
      "cell_type": "code",
      "source": [
        "network = keras.models.load_model('/content/HandWrittenObject.sav')"
      ],
      "metadata": {
        "id": "mFuzptfkoA24"
      },
      "execution_count": null,
      "outputs": []
    },
    {
      "cell_type": "code",
      "source": [
        "network.summary()"
      ],
      "metadata": {
        "id": "ja_eUXMMpgX8"
      },
      "execution_count": null,
      "outputs": []
    },
    {
      "cell_type": "code",
      "source": [
        "network.predict(img_array)"
      ],
      "metadata": {
        "id": "sZXARZa_po-u"
      },
      "execution_count": null,
      "outputs": []
    }
  ]
}