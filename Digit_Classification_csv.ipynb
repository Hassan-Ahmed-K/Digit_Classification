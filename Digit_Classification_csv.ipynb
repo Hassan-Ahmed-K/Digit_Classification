{
  "nbformat": 4,
  "nbformat_minor": 0,
  "metadata": {
    "colab": {
      "provenance": [],
      "gpuType": "T4"
    },
    "kernelspec": {
      "name": "python3",
      "display_name": "Python 3"
    },
    "language_info": {
      "name": "python"
    },
    "accelerator": "GPU"
  },
  "cells": [
    {
      "cell_type": "code",
      "source": [
        "from google.colab import drive\n",
        "drive.mount('/content/drive')\n"
      ],
      "metadata": {
        "colab": {
          "base_uri": "https://localhost:8080/"
        },
        "id": "m7LVSxFQmNmZ",
        "outputId": "015fca0a-12dd-480f-efdd-21cc6eb35a40"
      },
      "execution_count": 1,
      "outputs": [
        {
          "output_type": "stream",
          "name": "stdout",
          "text": [
            "Mounted at /content/drive\n"
          ]
        }
      ]
    },
    {
      "cell_type": "code",
      "source": [
        "from tensorflow.keras.datasets import mnist\n",
        "from tensorflow import keras\n",
        "from tensorflow.keras import models,layers\n",
        "from tensorflow.keras.utils import to_categorical\n",
        "from tensorflow.keras.preprocessing import image\n",
        "import numpy as np\n",
        "import tensorflow\n",
        "from tensorflow.keras.callbacks import ModelCheckpoint\n",
        "import matplotlib.pyplot as plt\n",
        "from sklearn.metrics import confusion_matrix, classification_report, f1_score\n",
        "import seaborn as sns\n",
        "import pandas as pd"
      ],
      "metadata": {
        "id": "G9F878A4iC9z"
      },
      "execution_count": 4,
      "outputs": []
    },
    {
      "cell_type": "code",
      "source": [
        "train_csv = '/content/drive/MyDrive/Hand Written Digit Classification/mnist_train.csv'\n",
        "train_data = pd.read_csv(train_csv)\n",
        "\n",
        "train_labels = train_data.iloc[:, 0].values\n",
        "train_images = train_data.iloc[:, 1:].values.reshape(-1, 28, 28, 1)\n",
        "\n",
        "train_images = train_images / 255.0"
      ],
      "metadata": {
        "id": "ESJ_yynxtPHs"
      },
      "execution_count": 5,
      "outputs": []
    },
    {
      "cell_type": "code",
      "source": [
        "test_csv = '/content/drive/MyDrive/Hand Written Digit Classification/mnist_test.csv'\n",
        "test_data = pd.read_csv(test_csv)\n",
        "\n",
        "test_labels = test_data.iloc[:, 0].values\n",
        "test_images = test_data.iloc[:, 1:].values.reshape(-1, 28, 28, 1)\n",
        "\n",
        "test_images = test_images / 255.0"
      ],
      "metadata": {
        "id": "M5RXQ0KktQw-"
      },
      "execution_count": 6,
      "outputs": []
    },
    {
      "cell_type": "code",
      "source": [
        "train_labels = to_categorical(train_labels)\n",
        "test_labels = to_categorical(test_labels)"
      ],
      "metadata": {
        "id": "P2LnyAVItVdf"
      },
      "execution_count": 8,
      "outputs": []
    },
    {
      "cell_type": "code",
      "source": [
        "model = models.Sequential()\n",
        "model.add(layers.Flatten(input_shape=(28, 28)))\n",
        "model.add(layers.Dense(512, activation='relu'))\n",
        "model.add(layers.Dropout(0.5))\n",
        "model.add(layers.Dense(512, activation='relu'))\n",
        "model.add(layers.Dropout(0.5))\n",
        "model.add(layers.Dense(10, activation='softmax'))\n",
        "\n",
        "model.compile(optimizer='adam',\n",
        "              loss='categorical_crossentropy',\n",
        "              metrics=['accuracy'])"
      ],
      "metadata": {
        "id": "jOpasi2otXrQ"
      },
      "execution_count": 19,
      "outputs": []
    },
    {
      "cell_type": "code",
      "source": [
        "model.summary()"
      ],
      "metadata": {
        "id": "cKsSit8VtZki",
        "outputId": "8e5f282a-521c-499b-efc9-eb4dde10ef09",
        "colab": {
          "base_uri": "https://localhost:8080/"
        }
      },
      "execution_count": 20,
      "outputs": [
        {
          "output_type": "stream",
          "name": "stdout",
          "text": [
            "Model: \"sequential_4\"\n",
            "_________________________________________________________________\n",
            " Layer (type)                Output Shape              Param #   \n",
            "=================================================================\n",
            " flatten_4 (Flatten)         (None, 784)               0         \n",
            "                                                                 \n",
            " dense_10 (Dense)            (None, 512)               401920    \n",
            "                                                                 \n",
            " dropout_6 (Dropout)         (None, 512)               0         \n",
            "                                                                 \n",
            " dense_11 (Dense)            (None, 512)               262656    \n",
            "                                                                 \n",
            " dropout_7 (Dropout)         (None, 512)               0         \n",
            "                                                                 \n",
            " dense_12 (Dense)            (None, 10)                5130      \n",
            "                                                                 \n",
            "=================================================================\n",
            "Total params: 669706 (2.55 MB)\n",
            "Trainable params: 669706 (2.55 MB)\n",
            "Non-trainable params: 0 (0.00 Byte)\n",
            "_________________________________________________________________\n"
          ]
        }
      ]
    },
    {
      "cell_type": "code",
      "source": [
        "history = model.fit(train_images, train_labels, epochs=10, batch_size=32)"
      ],
      "metadata": {
        "id": "_8zStQzTtiRf",
        "outputId": "7062d308-884f-4f51-cc9a-0d0fecff789d",
        "colab": {
          "base_uri": "https://localhost:8080/"
        }
      },
      "execution_count": 14,
      "outputs": [
        {
          "output_type": "stream",
          "name": "stdout",
          "text": [
            "Epoch 1/10\n",
            "1875/1875 [==============================] - 27s 14ms/step - loss: 0.3031 - accuracy: 0.9067\n",
            "Epoch 2/10\n",
            "1875/1875 [==============================] - 25s 14ms/step - loss: 0.1695 - accuracy: 0.9502\n",
            "Epoch 3/10\n",
            "1875/1875 [==============================] - 23s 12ms/step - loss: 0.1451 - accuracy: 0.9571\n",
            "Epoch 4/10\n",
            "1875/1875 [==============================] - 26s 14ms/step - loss: 0.1282 - accuracy: 0.9614\n",
            "Epoch 5/10\n",
            "1875/1875 [==============================] - 24s 13ms/step - loss: 0.1217 - accuracy: 0.9636\n",
            "Epoch 6/10\n",
            "1875/1875 [==============================] - 29s 16ms/step - loss: 0.1106 - accuracy: 0.9675\n",
            "Epoch 7/10\n",
            "1875/1875 [==============================] - 43s 23ms/step - loss: 0.1064 - accuracy: 0.9691\n",
            "Epoch 8/10\n",
            "1875/1875 [==============================] - 38s 20ms/step - loss: 0.1015 - accuracy: 0.9691\n",
            "Epoch 9/10\n",
            "1875/1875 [==============================] - 24s 13ms/step - loss: 0.0958 - accuracy: 0.9721\n",
            "Epoch 10/10\n",
            "1875/1875 [==============================] - 42s 22ms/step - loss: 0.0925 - accuracy: 0.9728\n"
          ]
        }
      ]
    },
    {
      "cell_type": "code",
      "source": [
        "checkpoint_callback = ModelCheckpoint('./content/drive/MyDrive/Saved_Models/DigitClassification99.08.h5', monitor='val_accuracy', save_best_only=True, mode='max')"
      ],
      "metadata": {
        "id": "3RoFaKFPieEj"
      },
      "execution_count": 21,
      "outputs": []
    },
    {
      "cell_type": "code",
      "source": [
        "model.fit(train_images,train_labels,validation_split=0.2,epochs=10,batch_size=512,callbacks=[checkpoint_callback],verbose=1)"
      ],
      "metadata": {
        "id": "Pmj7sUggigVq",
        "outputId": "799a85d2-e9b7-40e3-c342-a08c6121c3b9",
        "colab": {
          "base_uri": "https://localhost:8080/"
        }
      },
      "execution_count": 22,
      "outputs": [
        {
          "output_type": "stream",
          "name": "stdout",
          "text": [
            "Epoch 1/10\n",
            "94/94 [==============================] - 7s 59ms/step - loss: 0.5644 - accuracy: 0.8259 - val_loss: 0.1908 - val_accuracy: 0.9440\n",
            "Epoch 2/10\n",
            " 1/94 [..............................] - ETA: 4s - loss: 0.2956 - accuracy: 0.9180"
          ]
        },
        {
          "output_type": "stream",
          "name": "stderr",
          "text": [
            "/usr/local/lib/python3.10/dist-packages/keras/src/engine/training.py:3103: UserWarning: You are saving your model as an HDF5 file via `model.save()`. This file format is considered legacy. We recommend using instead the native Keras format, e.g. `model.save('my_model.keras')`.\n",
            "  saving_api.save_model(\n"
          ]
        },
        {
          "output_type": "stream",
          "name": "stdout",
          "text": [
            "94/94 [==============================] - 7s 74ms/step - loss: 0.2246 - accuracy: 0.9333 - val_loss: 0.1334 - val_accuracy: 0.9616\n",
            "Epoch 3/10\n",
            "94/94 [==============================] - 7s 71ms/step - loss: 0.1629 - accuracy: 0.9504 - val_loss: 0.1105 - val_accuracy: 0.9668\n",
            "Epoch 4/10\n",
            "94/94 [==============================] - 7s 78ms/step - loss: 0.1345 - accuracy: 0.9595 - val_loss: 0.0984 - val_accuracy: 0.9702\n",
            "Epoch 5/10\n",
            "94/94 [==============================] - 8s 85ms/step - loss: 0.1114 - accuracy: 0.9659 - val_loss: 0.0885 - val_accuracy: 0.9732\n",
            "Epoch 6/10\n",
            "94/94 [==============================] - 5s 54ms/step - loss: 0.0989 - accuracy: 0.9692 - val_loss: 0.0897 - val_accuracy: 0.9737\n",
            "Epoch 7/10\n",
            "94/94 [==============================] - 6s 63ms/step - loss: 0.0866 - accuracy: 0.9721 - val_loss: 0.0798 - val_accuracy: 0.9763\n",
            "Epoch 8/10\n",
            "94/94 [==============================] - 6s 67ms/step - loss: 0.0780 - accuracy: 0.9759 - val_loss: 0.0764 - val_accuracy: 0.9766\n",
            "Epoch 9/10\n",
            "94/94 [==============================] - 5s 54ms/step - loss: 0.0714 - accuracy: 0.9773 - val_loss: 0.0754 - val_accuracy: 0.9762\n",
            "Epoch 10/10\n",
            "94/94 [==============================] - 8s 81ms/step - loss: 0.0666 - accuracy: 0.9791 - val_loss: 0.0813 - val_accuracy: 0.9772\n"
          ]
        },
        {
          "output_type": "execute_result",
          "data": {
            "text/plain": [
              "<keras.src.callbacks.History at 0x785a3dc2f880>"
            ]
          },
          "metadata": {},
          "execution_count": 22
        }
      ]
    },
    {
      "cell_type": "code",
      "source": [
        "test_loss,test_acc = model.evaluate(test_images,test_labels)\n",
        "test_acc"
      ],
      "metadata": {
        "id": "e0s__bWCijsZ",
        "outputId": "62dc00fe-fe83-4159-be50-4e4a67a4085c",
        "colab": {
          "base_uri": "https://localhost:8080/"
        }
      },
      "execution_count": 23,
      "outputs": [
        {
          "output_type": "stream",
          "name": "stdout",
          "text": [
            "313/313 [==============================] - 1s 4ms/step - loss: 0.0695 - accuracy: 0.9787\n"
          ]
        },
        {
          "output_type": "execute_result",
          "data": {
            "text/plain": [
              "0.9786999821662903"
            ]
          },
          "metadata": {},
          "execution_count": 23
        }
      ]
    },
    {
      "cell_type": "code",
      "source": [
        "model = models.Sequential()\n",
        "model.add(layers.Conv2D(32, (3, 3), activation='relu', input_shape=(28, 28, 1)))\n",
        "model.add(layers.MaxPooling2D((2, 2)))\n",
        "model.add(layers.Conv2D(64, (3, 3), activation='relu'))\n",
        "model.add(layers.MaxPooling2D((2, 2)))\n",
        "model.add(layers.Flatten())\n",
        "model.add(layers.Dense(128, activation='relu'))\n",
        "model.add(layers.Dropout(0.5))\n",
        "model.add(layers.Dense(10, activation='softmax'))"
      ],
      "metadata": {
        "id": "b6REv7Tyr-P-"
      },
      "execution_count": 24,
      "outputs": []
    },
    {
      "cell_type": "code",
      "source": [
        "model.compile(optimizer='adam', loss='categorical_crossentropy', metrics=['accuracy'])"
      ],
      "metadata": {
        "id": "Zao9hCLHiQtI"
      },
      "execution_count": 25,
      "outputs": []
    },
    {
      "cell_type": "code",
      "source": [
        "history = model.fit(train_images,train_labels,validation_split=0.2,epochs=20,batch_size=512,callbacks=[checkpoint_callback],verbose=1)"
      ],
      "metadata": {
        "id": "6v323b_-ix7g",
        "outputId": "f8612100-0c15-4805-f304-c24bb8f562fe",
        "colab": {
          "base_uri": "https://localhost:8080/"
        }
      },
      "execution_count": 26,
      "outputs": [
        {
          "output_type": "stream",
          "name": "stdout",
          "text": [
            "Epoch 1/20\n",
            "94/94 [==============================] - 43s 445ms/step - loss: 0.5935 - accuracy: 0.8197 - val_loss: 0.1252 - val_accuracy: 0.9635\n",
            "Epoch 2/20\n",
            "94/94 [==============================] - 40s 428ms/step - loss: 0.1548 - accuracy: 0.9546 - val_loss: 0.0808 - val_accuracy: 0.9748\n",
            "Epoch 3/20\n",
            "94/94 [==============================] - 42s 447ms/step - loss: 0.1131 - accuracy: 0.9657 - val_loss: 0.0631 - val_accuracy: 0.9808\n",
            "Epoch 4/20\n",
            "94/94 [==============================] - 42s 443ms/step - loss: 0.0869 - accuracy: 0.9741 - val_loss: 0.0544 - val_accuracy: 0.9844\n",
            "Epoch 5/20\n",
            "94/94 [==============================] - 39s 411ms/step - loss: 0.0761 - accuracy: 0.9774 - val_loss: 0.0489 - val_accuracy: 0.9852\n",
            "Epoch 6/20\n",
            "94/94 [==============================] - 44s 466ms/step - loss: 0.0652 - accuracy: 0.9813 - val_loss: 0.0447 - val_accuracy: 0.9872\n",
            "Epoch 7/20\n",
            "94/94 [==============================] - 40s 421ms/step - loss: 0.0577 - accuracy: 0.9826 - val_loss: 0.0419 - val_accuracy: 0.9883\n",
            "Epoch 8/20\n",
            "94/94 [==============================] - 41s 437ms/step - loss: 0.0505 - accuracy: 0.9849 - val_loss: 0.0419 - val_accuracy: 0.9884\n",
            "Epoch 9/20\n",
            "94/94 [==============================] - 41s 439ms/step - loss: 0.0477 - accuracy: 0.9861 - val_loss: 0.0387 - val_accuracy: 0.9887\n",
            "Epoch 10/20\n",
            "94/94 [==============================] - 40s 423ms/step - loss: 0.0452 - accuracy: 0.9859 - val_loss: 0.0397 - val_accuracy: 0.9892\n",
            "Epoch 11/20\n",
            "94/94 [==============================] - 46s 490ms/step - loss: 0.0405 - accuracy: 0.9879 - val_loss: 0.0354 - val_accuracy: 0.9905\n",
            "Epoch 12/20\n",
            "94/94 [==============================] - 42s 448ms/step - loss: 0.0382 - accuracy: 0.9883 - val_loss: 0.0361 - val_accuracy: 0.9886\n",
            "Epoch 13/20\n",
            "94/94 [==============================] - 39s 415ms/step - loss: 0.0338 - accuracy: 0.9894 - val_loss: 0.0389 - val_accuracy: 0.9887\n",
            "Epoch 14/20\n",
            "94/94 [==============================] - 41s 441ms/step - loss: 0.0327 - accuracy: 0.9899 - val_loss: 0.0361 - val_accuracy: 0.9902\n",
            "Epoch 15/20\n",
            "94/94 [==============================] - 40s 424ms/step - loss: 0.0299 - accuracy: 0.9909 - val_loss: 0.0362 - val_accuracy: 0.9906\n",
            "Epoch 16/20\n",
            "94/94 [==============================] - 41s 441ms/step - loss: 0.0294 - accuracy: 0.9905 - val_loss: 0.0349 - val_accuracy: 0.9907\n",
            "Epoch 17/20\n",
            "94/94 [==============================] - 42s 444ms/step - loss: 0.0261 - accuracy: 0.9914 - val_loss: 0.0324 - val_accuracy: 0.9906\n",
            "Epoch 18/20\n",
            "94/94 [==============================] - 39s 417ms/step - loss: 0.0249 - accuracy: 0.9922 - val_loss: 0.0356 - val_accuracy: 0.9901\n",
            "Epoch 19/20\n",
            "94/94 [==============================] - 41s 441ms/step - loss: 0.0233 - accuracy: 0.9923 - val_loss: 0.0350 - val_accuracy: 0.9904\n",
            "Epoch 20/20\n",
            "94/94 [==============================] - 39s 412ms/step - loss: 0.0223 - accuracy: 0.9930 - val_loss: 0.0353 - val_accuracy: 0.9900\n"
          ]
        }
      ]
    },
    {
      "cell_type": "code",
      "source": [
        "test_loss,test_acc = model.evaluate(test_images,test_labels)\n",
        "test_acc"
      ],
      "metadata": {
        "id": "kcO-RFndi0WN",
        "outputId": "27e60a89-5909-4554-880d-4b62e3a70802",
        "colab": {
          "base_uri": "https://localhost:8080/"
        }
      },
      "execution_count": 27,
      "outputs": [
        {
          "output_type": "stream",
          "name": "stdout",
          "text": [
            "313/313 [==============================] - 4s 12ms/step - loss: 0.0243 - accuracy: 0.9926\n"
          ]
        },
        {
          "output_type": "execute_result",
          "data": {
            "text/plain": [
              "0.9926000237464905"
            ]
          },
          "metadata": {},
          "execution_count": 27
        }
      ]
    },
    {
      "cell_type": "code",
      "source": [
        "test_loss, test_acc = model.evaluate(test_images, test_labels)\n",
        "predictions = model.predict(test_images)\n",
        "predicted_classes = np.argmax(predictions, axis=1)\n",
        "true_classes = np.argmax(test_labels, axis=1)\n"
      ],
      "metadata": {
        "id": "edTx4qWbi3Sz",
        "outputId": "f1c16cbc-aea6-41f4-a179-f5fc3ff0dc7c",
        "colab": {
          "base_uri": "https://localhost:8080/"
        }
      },
      "execution_count": 28,
      "outputs": [
        {
          "output_type": "stream",
          "name": "stdout",
          "text": [
            "313/313 [==============================] - 3s 11ms/step - loss: 0.0243 - accuracy: 0.9926\n",
            "313/313 [==============================] - 5s 14ms/step\n"
          ]
        }
      ]
    },
    {
      "cell_type": "code",
      "source": [
        "f1 = f1_score(true_classes, predicted_classes, average='weighted')\n",
        "print(f'F1 Score: {f1}')\n",
        "\n",
        "conf_matrix = confusion_matrix(true_classes, predicted_classes)\n",
        "print('Confusion Matrix:')\n",
        "print(conf_matrix)\n",
        "\n",
        "# Generate a classification report\n",
        "report = classification_report(true_classes, predicted_classes)\n",
        "print('Classification Report:')\n",
        "print(report)\n"
      ],
      "metadata": {
        "id": "w0cNizp9i-rF",
        "outputId": "c80341df-762c-4921-f208-ee475979ae9a",
        "colab": {
          "base_uri": "https://localhost:8080/"
        }
      },
      "execution_count": 29,
      "outputs": [
        {
          "output_type": "stream",
          "name": "stdout",
          "text": [
            "F1 Score: 0.992595844333099\n",
            "Confusion Matrix:\n",
            "[[ 975    1    0    0    0    0    2    1    1    0]\n",
            " [   0 1133    1    1    0    0    0    0    0    0]\n",
            " [   0    0 1030    0    1    0    0    1    0    0]\n",
            " [   0    0    1 1004    0    4    0    0    1    0]\n",
            " [   0    0    0    0  981    0    0    0    0    1]\n",
            " [   2    0    0    6    0  880    1    1    1    1]\n",
            " [   2    2    0    0    3    4  947    0    0    0]\n",
            " [   0    3    5    0    0    0    0 1016    1    3]\n",
            " [   2    0    1    2    0    0    0    2  965    2]\n",
            " [   1    1    0    0    5    4    0    2    1  995]]\n",
            "Classification Report:\n",
            "              precision    recall  f1-score   support\n",
            "\n",
            "           0       0.99      0.99      0.99       980\n",
            "           1       0.99      1.00      1.00      1135\n",
            "           2       0.99      1.00      1.00      1032\n",
            "           3       0.99      0.99      0.99      1010\n",
            "           4       0.99      1.00      0.99       982\n",
            "           5       0.99      0.99      0.99       892\n",
            "           6       1.00      0.99      0.99       958\n",
            "           7       0.99      0.99      0.99      1028\n",
            "           8       0.99      0.99      0.99       974\n",
            "           9       0.99      0.99      0.99      1009\n",
            "\n",
            "    accuracy                           0.99     10000\n",
            "   macro avg       0.99      0.99      0.99     10000\n",
            "weighted avg       0.99      0.99      0.99     10000\n",
            "\n"
          ]
        }
      ]
    },
    {
      "cell_type": "code",
      "source": [
        "plt.figure(figsize=(6, 4))\n",
        "plt.bar(['F1 Score'], [f1], color='blue')\n",
        "plt.ylim(0, 1)\n",
        "plt.title('F1 Score')\n",
        "plt.show()"
      ],
      "metadata": {
        "id": "0DUbgShUjgr2",
        "outputId": "05c97421-7028-43f9-e241-0fc365ba81fd",
        "colab": {
          "base_uri": "https://localhost:8080/",
          "height": 391
        }
      },
      "execution_count": 30,
      "outputs": [
        {
          "output_type": "display_data",
          "data": {
            "text/plain": [
              "<Figure size 600x400 with 1 Axes>"
            ],
            "image/png": "[encoded data removed]"
          },
          "metadata": {}
        }
      ]
    },
    {
      "cell_type": "code",
      "source": [
        "plt.figure(figsize=(10, 8))\n",
        "sns.heatmap(conf_matrix, annot=True, fmt='d', cmap='Blues', xticklabels=range(10), yticklabels=range(10))\n",
        "plt.xlabel('Predicted Label')\n",
        "plt.ylabel('True Label')\n",
        "plt.title('Confusion Matrix')\n",
        "plt.show()\n"
      ],
      "metadata": {
        "id": "dFrb4cBIjFOH",
        "outputId": "be206cab-652e-444d-e632-76c6a7b5cb27",
        "colab": {
          "base_uri": "https://localhost:8080/",
          "height": 718
        }
      },
      "execution_count": 34,
      "outputs": [
        {
          "output_type": "display_data",
          "data": {
            "text/plain": [
              "<Figure size 1000x800 with 2 Axes>"
            ],
            "image/png": "[encoded data removed]"
          },
          "metadata": {}
        }
      ]
    },
    {
      "cell_type": "code",
      "source": [
        "image = test_images[0].reshape(1,28, 28,1)\n",
        "prediction = model.predict(image)\n",
        "image = image.reshape(28, 28)\n",
        "# Visualize the first image\n",
        "plt.figure(figsize=(4, 4))\n",
        "plt.imshow(image, cmap='gray')\n",
        "plt.title(f'The image is {prediction.argmax()}')\n",
        "plt.axis('off')\n",
        "plt.show()"
      ],
      "metadata": {
        "id": "UBacHy9QjKDk",
        "outputId": "2e2625b8-cde8-4ab2-81de-496392ddcde4",
        "colab": {
          "base_uri": "https://localhost:8080/",
          "height": 404
        }
      },
      "execution_count": 45,
      "outputs": [
        {
          "metadata": {
            "tags": null
          },
          "name": "stdout",
          "output_type": "stream",
          "text": [
            "1/1 [==============================] - 0s 23ms/step\n",
            "\n"
          ]
        },
        {
          "data": {
            "image/png": "[encoded data removed]",
            "text/plain": [
              "<Figure size 400x400 with 1 Axes>"
            ]
          },
          "metadata": {},
          "output_type": "display_data"
        }
      ]
    },
    {
      "cell_type": "code",
      "source": [
        "image = test_images[1].reshape(1,28, 28,1)\n",
        "prediction = model.predict(image)\n",
        "image = image.reshape(28, 28)\n",
        "# Visualize the first image\n",
        "plt.figure(figsize=(4, 4))\n",
        "plt.imshow(image, cmap='gray')\n",
        "plt.title(f'The image is {prediction.argmax()}')\n",
        "plt.axis('off')\n",
        "plt.show()"
      ],
      "metadata": {
        "id": "VmHaLdkuoLHG",
        "outputId": "01dd85ab-0ec6-4f7e-afc7-96b85058c75e",
        "colab": {
          "base_uri": "https://localhost:8080/",
          "height": 385
        }
      },
      "execution_count": 46,
      "outputs": [
        {
          "output_type": "stream",
          "name": "stdout",
          "text": [
            "1/1 [==============================] - 0s 40ms/step\n"
          ]
        },
        {
          "output_type": "display_data",
          "data": {
            "text/plain": [
              "<Figure size 400x400 with 1 Axes>"
            ],
            "image/png": "[encoded data removed]"
          },
          "metadata": {}
        }
      ]
    },
    {
      "cell_type": "code",
      "source": [
        "image = test_images[2].reshape(1,28, 28,1)\n",
        "prediction = model.predict(image)\n",
        "image = image.reshape(28, 28)\n",
        "# Visualize the first image\n",
        "plt.figure(figsize=(4, 4))\n",
        "plt.imshow(image, cmap='gray')\n",
        "plt.title(f'The image is {prediction.argmax()}')\n",
        "plt.axis('off')\n",
        "plt.show()"
      ],
      "metadata": {
        "id": "DVkU3s8qqEk7",
        "outputId": "3e0316b2-3c01-4863-e73a-0de5b8d1ae0f",
        "colab": {
          "base_uri": "https://localhost:8080/",
          "height": 385
        }
      },
      "execution_count": 47,
      "outputs": [
        {
          "output_type": "stream",
          "name": "stdout",
          "text": [
            "1/1 [==============================] - 0s 68ms/step\n"
          ]
        },
        {
          "output_type": "display_data",
          "data": {
            "text/plain": [
              "<Figure size 400x400 with 1 Axes>"
            ],
            "image/png": "[encoded data removed]"
          },
          "metadata": {}
        }
      ]
    },
    {
      "cell_type": "code",
      "source": [
        "image = test_images[3].reshape(1,28, 28,1)\n",
        "prediction = model.predict(image)\n",
        "image = image.reshape(28, 28)\n",
        "# Visualize the first image\n",
        "plt.figure(figsize=(4, 4))\n",
        "plt.imshow(image, cmap='gray')\n",
        "plt.title(f'The image is {prediction.argmax()}')\n",
        "plt.axis('off')\n",
        "plt.show()"
      ],
      "metadata": {
        "id": "3YWIG4_ZqGMc",
        "outputId": "7d04bb14-881d-45d0-e1c1-da3024a239a1",
        "colab": {
          "base_uri": "https://localhost:8080/",
          "height": 385
        }
      },
      "execution_count": 48,
      "outputs": [
        {
          "output_type": "stream",
          "name": "stdout",
          "text": [
            "1/1 [==============================] - 0s 36ms/step\n"
          ]
        },
        {
          "output_type": "display_data",
          "data": {
            "text/plain": [
              "<Figure size 400x400 with 1 Axes>"
            ],
            "image/png": "[encoded data removed]"
          },
          "metadata": {}
        }
      ]
    },
    {
      "cell_type": "code",
      "source": [],
      "metadata": {
        "id": "TL5IOOP2qIRb"
      },
      "execution_count": null,
      "outputs": []
    }
  ]
}